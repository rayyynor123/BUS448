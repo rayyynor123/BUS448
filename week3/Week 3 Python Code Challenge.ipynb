{
 "cells": [
  {
   "cell_type": "code",
   "execution_count": 7,
   "id": "86eec577-e6b0-4447-ba1e-97724ef33afa",
   "metadata": {},
   "outputs": [
    {
     "name": "stdout",
     "output_type": "stream",
     "text": [
      "[2, 4, 6, 8, 10, 12, 14, 16, 18, 20, 22, 24, 26, 28, 30, 32, 34, 36, 38, 40, 42, 44, 46, 48, 50, 52, 54, 56, 58, 60, 62, 64, 66, 68, 70, 72, 74, 76, 78, 80, 82, 84, 86, 88, 90, 92, 94, 96, 98, 100]\n",
      "2550\n",
      "The sum of all even numbers between 1 and 100 is: 2550\n",
      "The average of all even numbers between 1 and 100 is: 51.0\n"
     ]
    }
   ],
   "source": [
    "# Purpose: Calculate the sum of all even numbers between 1 and 100 and find their average\n",
    "\n",
    "# Step 1: Create a sequence of numbers from 1 to 100\n",
    "numbers = list(range(1, 101))\n",
    "\n",
    "# Step 2: Filter out even numbers\n",
    "even_numbers = [num for num in numbers if num % 2 == 0]\n",
    "print(even_numbers)\n",
    "\n",
    "# Step 3: Calculate the sum of even numbers\n",
    "sum_even = sum(even_numbers)\n",
    "print(sum_even )\n",
    "# Step 4: Calculate the average of the even numbers\n",
    "average_even =   sum_even/len(even_numbers) \n",
    "\n",
    "# Step 5: Print the result\n",
    "print(f\"The sum of all even numbers between 1 and 100 is: {sum_even}\")\n",
    "print(f\"The average of all even numbers between 1 and 100 is: {average_even}\")"
   ]
  },
  {
   "cell_type": "code",
   "execution_count": null,
   "id": "9b7dedc5-ea9a-4d30-a1b9-cb71375cf795",
   "metadata": {},
   "outputs": [],
   "source": []
  }
 ],
 "metadata": {
  "kernelspec": {
   "display_name": "Python 3 (ipykernel)",
   "language": "python",
   "name": "python3"
  },
  "language_info": {
   "codemirror_mode": {
    "name": "ipython",
    "version": 3
   },
   "file_extension": ".py",
   "mimetype": "text/x-python",
   "name": "python",
   "nbconvert_exporter": "python",
   "pygments_lexer": "ipython3",
   "version": "3.11.7"
  }
 },
 "nbformat": 4,
 "nbformat_minor": 5
}
