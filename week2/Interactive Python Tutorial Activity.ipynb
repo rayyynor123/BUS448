{
 "cells": [
  {
   "cell_type": "code",
   "execution_count": null,
   "id": "57e4b441-c8b1-419a-8011-def0d4bcc8d5",
   "metadata": {},
   "outputs": [],
   "source": [
    "# Interactive Python Tutorial Activity\n",
    "# Read through each section below. You'll find in each section an essential command presented and runnable snippet of code.\n",
    "# Run the snippet and then carry out the task. For tasks, I do provide helper code. \n",
    "# You can uncomment and tweak this or write your own from scratch. \n",
    "# In some cases, you might want to use a print() command to output the value. Try this.\n",
    "# You can work with a partner/collaborator, but you should each run the code independently."
   ]
  },
  {
   "cell_type": "code",
   "execution_count": 2,
   "id": "d627c907-fd67-447f-8bf2-d16b10825164",
   "metadata": {},
   "outputs": [
    {
     "name": "stdout",
     "output_type": "stream",
     "text": [
      "0\n",
      "1\n",
      "2\n",
      "3\n",
      "4\n",
      "Loop ended\n",
      "0\n",
      "1\n",
      "2\n",
      "3\n",
      "4\n"
     ]
    }
   ],
   "source": [
    "# Python Syntax and Structure\n",
    "\n",
    "# Understanding the importance of indentation in Python\n",
    "# Explanation: In Python, indentation is used to define the scope of loops, functions, classes, etc.\n",
    "# Example:\n",
    "for i in range(5):\n",
    "    print(i)  # This line is inside the loop\n",
    "print(\"Loop ended\")  # This line is outside the loop\n",
    "\n",
    "# Task: Fix the indentation error\n",
    "# Sample Code:\n",
    "for i in range(5):\n",
    "    print(i)"
   ]
  },
  {
   "cell_type": "code",
   "execution_count": 3,
   "id": "d5c7b322-babe-401b-9bc3-d44519b1bbf5",
   "metadata": {},
   "outputs": [
    {
     "name": "stdout",
     "output_type": "stream",
     "text": [
      "Hello, World!\n",
      "Your message here\n"
     ]
    }
   ],
   "source": [
    "# Writing basic print statements and comments\n",
    "# Explanation: Print statements are used to display output, and comments are used to explain code.\n",
    "# Example:\n",
    "print(\"Hello, World!\")  # This is a print statement\n",
    "# This is a comment\n",
    "\n",
    "# Task: Write a print statement and a comment\n",
    "# Sample Code:\n",
    "print(\"Your message here\")"
   ]
  },
  {
   "cell_type": "code",
   "execution_count": 5,
   "id": "c4a9c027-4017-42da-bcec-59d2192926f9",
   "metadata": {},
   "outputs": [],
   "source": [
    "# Recognizing and using different data types\n",
    "# Explanation: Python supports various data types like integers, floats, strings, and booleans.\n",
    "# Example:\n",
    "a = 10  # Integer\n",
    "b = 3.14  # Float\n",
    "c = \"Hello\"  # String\n",
    "d = True  # Boolean\n",
    "\n",
    "# Task: Declare variables of different types\n",
    "# Sample Code:\n",
    "# x = 42\n",
    "# y = 2.718\n",
    "# z = \"Python\"\n",
    "# w = False"
   ]
  },
  {
   "cell_type": "code",
   "execution_count": 8,
   "id": "232af71c-19c4-4990-abc6-b2887b251e03",
   "metadata": {},
   "outputs": [],
   "source": [
    "# Variables and Data Types\n",
    "\n",
    "# Declaring and initializing variables\n",
    "# Explanation: Variables store data values and can be initialized with a value.\n",
    "# Example:\n",
    "name = \"Alice\"\n",
    "age = 25\n",
    "\n",
    "# Task: Declare and initialize two variables\n",
    "# Sample Code:\n",
    "city = \"New York\"\n",
    "population = 8419000"
   ]
  },
  {
   "cell_type": "code",
   "execution_count": 6,
   "id": "fd6c90c4-d73f-4fdf-a1e8-0db1ec2fa426",
   "metadata": {},
   "outputs": [
    {
     "name": "stdout",
     "output_type": "stream",
     "text": [
      "<class 'int'>\n",
      "<class 'int'>\n"
     ]
    }
   ],
   "source": [
    "# Type casting and type checking\n",
    "# Explanation: Type casting is used to convert one data type to another. Type checking is used to check the type of a variable.\n",
    "# Example:\n",
    "num = \"123\"\n",
    "num_int = int(num)  # Type casting\n",
    "print(type(num_int))  # Type checking\n",
    "\n",
    "# Task: Convert a float to an integer and check its type\n",
    "# Sample Code:\n",
    "value = 9.99\n",
    "value_int = int(value)\n",
    "print(type(value_int))"
   ]
  },
  {
   "cell_type": "code",
   "execution_count": 7,
   "id": "835c40fd-ab78-4b1f-ab86-ecfacbcd15f7",
   "metadata": {},
   "outputs": [],
   "source": [
    "# Performing arithmetic and string operations\n",
    "# Explanation: Python supports various arithmetic and string operations.\n",
    "# Example:\n",
    "result = 10 + 5\n",
    "greeting = \"Hello, \" + \"World!\"\n",
    "\n",
    "# Task: Perform a subtraction and concatenate two strings\n",
    "# Sample Code:\n",
    "result = 20 - 7\n",
    "message = \"Good\" + \" Morning\""
   ]
  },
  {
   "cell_type": "code",
   "execution_count": 12,
   "id": "9f8cb397-28e3-43d5-8220-e46761f0bfbe",
   "metadata": {},
   "outputs": [],
   "source": [
    "# Basic Operations\n",
    "\n",
    "# Using operators (arithmetic, comparison, logical)\n",
    "# Explanation: Operators are used to perform operations on variables and values.\n",
    "# Example:\n",
    "sum = 10 + 5  # Arithmetic\n",
    "is_equal = (10 == 10)  # Comparison\n",
    "logical_and = (10 > 5) and (5 < 10)  # Logical\n",
    "\n",
    "# Task: Use multiplication, greater than, and logical OR operators\n",
    "# Sample Code:\n",
    "# product = 4 * 5\n",
    "# is_greater = (15 > 10)\n",
    "# logical_or = (5 > 3) or (3 > 5)"
   ]
  },
  {
   "cell_type": "code",
   "execution_count": 11,
   "id": "458cdfbe-d43e-438d-bd2d-aa5a2395eed8",
   "metadata": {},
   "outputs": [],
   "source": [
    "# String manipulation and formatting\n",
    "# Explanation: Python provides various methods to manipulate and format strings.\n",
    "# Example:\n",
    "text = \"Hello\"\n",
    "upper_text = text.upper()  # Convert to uppercase\n",
    "formatted_text = f\"Welcome, {name}!\"  # f-string formatting\n",
    "\n",
    "# Task: Convert a string to lowercase and use f-string formatting\n",
    "# Sample Code:\n",
    "# text = \"PYTHON\"\n",
    "# lower_text = text.lower()\n",
    "# age = 30\n",
    "# formatted_text = f\"I am {age} years old\""
   ]
  },
  {
   "cell_type": "code",
   "execution_count": 10,
   "id": "dd4f27d3-bdc5-4cba-a42b-4b8049fc23d6",
   "metadata": {},
   "outputs": [],
   "source": [
    "# Understanding and using built-in functions\n",
    "# Explanation: Python has many built-in functions for various tasks.\n",
    "# Example:\n",
    "length = len(\"Hello\")  # Get the length of a string\n",
    "maximum = max(10, 20, 30)  # Get the maximum value\n",
    "\n",
    "# Task: Use built-in functions to find the minimum value and the absolute value\n",
    "# Sample Code:\n",
    "# minimum = min(3, 1, 4)\n",
    "# absolute = abs(-10)"
   ]
  },
  {
   "cell_type": "code",
   "execution_count": 9,
   "id": "3a3c3f03-5d29-433e-964a-347ee603b344",
   "metadata": {},
   "outputs": [
    {
     "name": "stdout",
     "output_type": "stream",
     "text": [
      "Positive\n"
     ]
    }
   ],
   "source": [
    "# Conditional Statements\n",
    "\n",
    "# Writing and using if, elif, and else statements\n",
    "# Explanation: Conditional statements are used to perform different actions based on different conditions.\n",
    "# Example:\n",
    "x = 10\n",
    "if x > 0:\n",
    "    print(\"Positive\")\n",
    "elif x == 0:\n",
    "    print(\"Zero\")\n",
    "else:\n",
    "    print(\"Negative\")\n",
    "\n",
    "# Task: Write an if-elif-else statement to check if a number is positive, negative, or zero\n",
    "# Sample Code:\n",
    "# num = -5\n",
    "# if num > 0:\n",
    "#     print(\"Positive\")\n",
    "# elif num == 0:\n",
    "#     print(\"Zero\")\n",
    "# else:\n",
    "#     print(\"Negative\")"
   ]
  },
  {
   "cell_type": "code",
   "execution_count": 13,
   "id": "252a9e28-4cd0-421d-a7df-f7ee16938141",
   "metadata": {},
   "outputs": [
    {
     "name": "stdout",
     "output_type": "stream",
     "text": [
      "Condition met\n"
     ]
    }
   ],
   "source": [
    "# Understanding and applying logical operators\n",
    "# Explanation: Logical operators (and, or, not) are used to combine conditional statements.\n",
    "# Example:\n",
    "a = True\n",
    "b = False\n",
    "if a and not b:\n",
    "    print(\"Condition met\")\n",
    "\n",
    "# Task: Use logical operators to combine two conditions\n",
    "# Sample Code:\n",
    "# x = 5\n",
    "# y = 10\n",
    "# if x < 10 and y > 5:\n",
    "#     print(\"Both conditions are true\")"
   ]
  },
  {
   "cell_type": "code",
   "execution_count": 14,
   "id": "a5f7bed2-dfcb-4059-9d5b-a4621cd3da30",
   "metadata": {},
   "outputs": [
    {
     "name": "stdout",
     "output_type": "stream",
     "text": [
      "Good\n"
     ]
    }
   ],
   "source": [
    "# Nesting conditional statements\n",
    "# Explanation: Conditional statements can be nested inside each other.\n",
    "# Example:\n",
    "score = 85\n",
    "if score >= 60:\n",
    "    if score >= 90:\n",
    "        print(\"Excellent\")\n",
    "    else:\n",
    "        print(\"Good\")\n",
    "else:\n",
    "    print(\"Fail\")\n",
    "\n",
    "# Task: Write a nested conditional statement\n",
    "# Sample Code:\n",
    "# age = 25\n",
    "# if age >= 18:\n",
    "#     if age >= 21:\n",
    "#         print(\"Adult\")\n",
    "#     else:\n",
    "#         print(\"Young Adult\")\n",
    "# else:\n",
    "#     print(\"Minor\")"
   ]
  },
  {
   "cell_type": "code",
   "execution_count": 15,
   "id": "77787ba3-7062-4959-b175-82eda6f94616",
   "metadata": {},
   "outputs": [
    {
     "name": "stdout",
     "output_type": "stream",
     "text": [
      "0\n",
      "1\n",
      "2\n",
      "3\n",
      "4\n"
     ]
    }
   ],
   "source": [
    "# Looping Constructs\n",
    "\n",
    "# Using for loops for iteration over sequences\n",
    "# Explanation: For loops are used to iterate over a sequence (list, tuple, string, etc.).\n",
    "# Example:\n",
    "for i in range(5):\n",
    "    print(i)\n",
    "\n",
    "# Task: Write a for loop to iterate over a list\n",
    "# Sample Code:\n",
    "# fruits = [\"apple\", \"banana\", \"cherry\"]\n",
    "# for fruit in fruits:\n",
    "#     print(fruit)"
   ]
  },
  {
   "cell_type": "code",
   "execution_count": 16,
   "id": "06c2906b-66fe-425b-abbe-4832b9182377",
   "metadata": {},
   "outputs": [
    {
     "name": "stdout",
     "output_type": "stream",
     "text": [
      "0\n",
      "1\n",
      "2\n",
      "3\n",
      "4\n"
     ]
    }
   ],
   "source": [
    "# Implementing while loops and understanding loop control (break, continue)\n",
    "# Explanation: While loops are used to execute a block of code as long as a condition is true.\n",
    "# Example:\n",
    "count = 0\n",
    "while count < 5:\n",
    "    print(count)\n",
    "    count += 1\n",
    "\n",
    "# Task: Write a while loop with a break statement\n",
    "# Sample Code:\n",
    "# num = 0\n",
    "# while num < 10:\n",
    "#     if num == 5:\n",
    "#         break\n",
    "#     print(num)\n",
    "#     num += 1"
   ]
  },
  {
   "cell_type": "code",
   "execution_count": 17,
   "id": "82d6740b-37cc-42c6-9755-b72d3727bb68",
   "metadata": {},
   "outputs": [
    {
     "name": "stdout",
     "output_type": "stream",
     "text": [
      "i: 0, j: 0\n",
      "i: 0, j: 1\n",
      "i: 1, j: 0\n",
      "i: 1, j: 1\n",
      "i: 2, j: 0\n",
      "i: 2, j: 1\n"
     ]
    }
   ],
   "source": [
    "# Nested loops and their applications\n",
    "# Explanation: Loops can be nested inside each other to perform complex tasks.\n",
    "# Example:\n",
    "for i in range(3):\n",
    "    for j in range(2):\n",
    "        print(f\"i: {i}, j: {j}\")\n",
    "\n",
    "# Task: Write a nested loop to print a pattern\n",
    "# Sample Code:\n",
    "# for i in range(3):\n",
    "#     for j in range(i + 1):\n",
    "#         print(\"*\", end=\"\")\n",
    "#     print()"
   ]
  },
  {
   "cell_type": "code",
   "execution_count": 18,
   "id": "2b49931e-75fc-4784-8bc7-e09b2ad9ed6c",
   "metadata": {},
   "outputs": [],
   "source": [
    "# Functions\n",
    "\n",
    "# Defining functions with parameters\n",
    "# Explanation: Functions are defined using the def keyword and can take parameters.\n",
    "# Example:\n",
    "def greet(name):\n",
    "    print(f\"Hello, {name}\")\n",
    "\n",
    "# Task: Write a function that takes two parameters and prints their sum\n",
    "# Sample Code:\n",
    "# def add(a, b):\n",
    "#     print(a + b)"
   ]
  },
  {
   "cell_type": "code",
   "execution_count": 19,
   "id": "9fa96ea3-539b-42b3-8a63-6d31cc036fca",
   "metadata": {},
   "outputs": [],
   "source": [
    "# Understanding scope and lifetime of variables\n",
    "# Explanation: Scope refers to the visibility of variables. Variables defined inside a function are local to that function.\n",
    "# Example:\n",
    "def my_function():\n",
    "    local_var = 10\n",
    "    print(local_var)\n",
    "\n",
    "# Task: Write a function and access a variable inside it\n",
    "# Sample Code:\n",
    "# def show_message():\n",
    "#     message = \"Hello\"\n",
    "#     print(message)"
   ]
  },
  {
   "cell_type": "code",
   "execution_count": 20,
   "id": "670e92e9-f9a4-47f2-9fdd-60ad729b461f",
   "metadata": {},
   "outputs": [],
   "source": [
    "# Using return values and the return statement\n",
    "# Explanation: The return statement is used to return a value from a function.\n",
    "# Example:\n",
    "def square(x):\n",
    "    return x * x\n",
    "\n",
    "# Task: Write a function that returns the product of two numbers\n",
    "# Sample Code:\n",
    "# def multiply(a, b):\n",
    "#     return a * b"
   ]
  },
  {
   "cell_type": "code",
   "execution_count": 21,
   "id": "e09d0c9b-33a3-4bd3-ab00-c7ad56fb0215",
   "metadata": {},
   "outputs": [],
   "source": [
    "# Lists and Tuples\n",
    "\n",
    "# Creating, accessing, and modifying lists and tuples\n",
    "# Explanation: Lists are mutable sequences, while tuples are immutable.\n",
    "# Example:\n",
    "my_list = [1, 2, 3]\n",
    "my_tuple = (4, 5, 6)\n",
    "my_list[0] = 10\n",
    "\n",
    "# Task: Create a list and a tuple, then modify the list\n",
    "# Sample Code:\n",
    "# fruits = [\"apple\", \"banana\", \"cherry\"]\n",
    "# numbers = (1, 2, 3)\n",
    "# fruits[1] = \"orange\""
   ]
  },
  {
   "cell_type": "code",
   "execution_count": 22,
   "id": "77b31829-5aa1-4596-98fb-becd6ba1c1c8",
   "metadata": {},
   "outputs": [],
   "source": [
    "# List comprehensions and tuple unpacking\n",
    "# Explanation: List comprehensions provide a concise way to create lists. Tuple unpacking assigns values to multiple variables.\n",
    "# Example:\n",
    "squares = [x * x for x in range(5)]\n",
    "a, b, c = (1, 2, 3)\n",
    "\n",
    "# Task: Use a list comprehension to create a list of cubes\n",
    "# Sample Code:\n",
    "# cubes = [x**3 for x in range(4)]"
   ]
  },
  {
   "cell_type": "code",
   "execution_count": 23,
   "id": "7a1f4a58-7207-4de8-b2de-d9c4d97df129",
   "metadata": {},
   "outputs": [],
   "source": [
    "# Common list methods and operations (append, pop, sort)\n",
    "# Explanation: Lists have various methods to perform operations like adding, removing, and sorting elements.\n",
    "# Example:\n",
    "my_list = [3, 1, 4]\n",
    "my_list.append(2)\n",
    "my_list.pop(1)\n",
    "my_list.sort()\n",
    "\n",
    "# Task: Append an element to a list, remove an element, and sort the list\n",
    "# Sample Code:\n",
    "# numbers = [10, 5, 8]\n",
    "# numbers.append(3)\n",
    "# numbers.pop(0)\n",
    "# numbers.sort()"
   ]
  },
  {
   "cell_type": "code",
   "execution_count": 24,
   "id": "7ea94578-637d-4c71-8865-04e19a10b98d",
   "metadata": {},
   "outputs": [],
   "source": [
    "# Sets\n",
    "\n",
    "# Creating and using sets\n",
    "# Explanation: Sets are unordered collections of unique elements.\n",
    "# Example:\n",
    "my_set = {1, 2, 3, 4}\n",
    "my_set.add(5)\n",
    "\n",
    "# Task: Create a set and add an element to it\n",
    "# Sample Code:\n",
    "# colors = {\"red\", \"blue\", \"green\"}\n",
    "# colors.add(\"yellow\")"
   ]
  },
  {
   "cell_type": "code",
   "execution_count": 25,
   "id": "decedcff-03ce-4d34-a518-aaac379d635a",
   "metadata": {},
   "outputs": [],
   "source": [
    "# Understanding set operations (union, intersection, difference)\n",
    "# Explanation: Sets support various operations like union, intersection, and difference.\n",
    "# Example:\n",
    "set1 = {1, 2, 3}\n",
    "set2 = {3, 4, 5}\n",
    "union_set = set1 | set2\n",
    "intersection_set = set1 & set2\n",
    "\n",
    "# Task: Perform union and difference operations on sets\n",
    "# Sample Code:\n",
    "# setA = {1, 2, 3}\n",
    "# setB = {3, 4, 5}\n",
    "# union_result = setA.union(setB)\n",
    "# difference_result = setA.difference(setB)"
   ]
  },
  {
   "cell_type": "code",
   "execution_count": 26,
   "id": "3271bcab-fb5f-4ae4-898d-85c26b856fab",
   "metadata": {},
   "outputs": [],
   "source": [
    "# Using sets for membership testing and eliminating duplicates\n",
    "# Explanation: Sets can be used to test membership and remove duplicates from a list.\n",
    "# Example:\n",
    "numbers = [1, 2, 2, 3, 4, 4]\n",
    "unique_numbers = set(numbers)\n",
    "\n",
    "# Task: Remove duplicates from a list using a set\n",
    "# Sample Code:\n",
    "# items = [\"apple\", \"banana\", \"apple\", \"cherry\"]\n",
    "# unique_items = set(items)"
   ]
  },
  {
   "cell_type": "code",
   "execution_count": 27,
   "id": "c963a95e-38c6-4a21-b6fa-b04399734bec",
   "metadata": {},
   "outputs": [
    {
     "name": "stdout",
     "output_type": "stream",
     "text": [
      "Alice\n"
     ]
    }
   ],
   "source": [
    "# Dictionaries\n",
    "\n",
    "# Creating and accessing dictionaries\n",
    "# Explanation: Dictionaries are collections of key-value pairs.\n",
    "# Example:\n",
    "my_dict = {\"name\": \"Alice\", \"age\": 25}\n",
    "print(my_dict[\"name\"])\n",
    "\n",
    "# Task: Create a dictionary and access a value\n",
    "# Sample Code:\n",
    "# person = {\"name\": \"Bob\", \"city\": \"Paris\"}\n",
    "# print(person[\"city\"])"
   ]
  },
  {
   "cell_type": "code",
   "execution_count": 28,
   "id": "843eadcf-3704-4550-89f5-24029092dab7",
   "metadata": {},
   "outputs": [],
   "source": [
    "# Adding, modifying, and deleting key-value pairs\n",
    "# Explanation: Dictionaries can be modified by adding, updating, or removing key-value pairs.\n",
    "# Example:\n",
    "my_dict[\"age\"] = 26\n",
    "my_dict[\"city\"] = \"New York\"\n",
    "del my_dict[\"name\"]\n",
    "\n",
    "# Task: Add, modify, and delete key-value pairs in a dictionary\n",
    "# Sample Code:\n",
    "# info = {\"brand\": \"Toyota\", \"model\": \"Corolla\"}\n",
    "# info[\"year\"] = 2021\n",
    "# info[\"model\"] = \"Camry\"\n",
    "# del info[\"brand\"]"
   ]
  },
  {
   "cell_type": "code",
   "execution_count": 29,
   "id": "27fbee9a-43c1-4df3-a469-47ca4a113b99",
   "metadata": {},
   "outputs": [
    {
     "name": "stdout",
     "output_type": "stream",
     "text": [
      "age: 26\n",
      "city: New York\n"
     ]
    }
   ],
   "source": [
    "# Dictionary methods and looping through dictionaries\n",
    "# Explanation: Dictionaries have methods like keys(), values(), and items() for iteration.\n",
    "# Example:\n",
    "for key, value in my_dict.items():\n",
    "    print(f\"{key}: {value}\")\n",
    "\n",
    "# Task: Loop through a dictionary and print its keys and values\n",
    "# Sample Code:\n",
    "# data = {\"country\": \"USA\", \"capital\": \"Washington\"}\n",
    "# for key, value in data.items():\n",
    "#     print(f\"{key}: {value}\")"
   ]
  },
  {
   "cell_type": "code",
   "execution_count": 30,
   "id": "df4ebc42-9f14-4ed9-a810-24f3a1f7b522",
   "metadata": {},
   "outputs": [
    {
     "name": "stdout",
     "output_type": "stream",
     "text": [
      "4.0\n"
     ]
    }
   ],
   "source": [
    "# Importing Modules\n",
    "\n",
    "# Importing standard libraries and using aliases (e.g., import math as m)\n",
    "# Explanation: Modules can be imported to use additional functionality.\n",
    "# Example:\n",
    "import math\n",
    "print(math.sqrt(16))\n",
    "\n",
    "# Task: Import the random module and generate a random number\n",
    "# Sample Code:\n",
    "# import random\n",
    "# print(random.randint(1, 10))"
   ]
  },
  {
   "cell_type": "code",
   "execution_count": 31,
   "id": "a4b449e4-a7e8-4d76-9f91-b41f2ccc4072",
   "metadata": {},
   "outputs": [
    {
     "name": "stdout",
     "output_type": "stream",
     "text": [
      "['__doc__', '__loader__', '__name__', '__package__', '__spec__', 'acos', 'acosh', 'asin', 'asinh', 'atan', 'atan2', 'atanh', 'cbrt', 'ceil', 'comb', 'copysign', 'cos', 'cosh', 'degrees', 'dist', 'e', 'erf', 'erfc', 'exp', 'exp2', 'expm1', 'fabs', 'factorial', 'floor', 'fmod', 'frexp', 'fsum', 'gamma', 'gcd', 'hypot', 'inf', 'isclose', 'isfinite', 'isinf', 'isnan', 'isqrt', 'lcm', 'ldexp', 'lgamma', 'log', 'log10', 'log1p', 'log2', 'modf', 'nan', 'nextafter', 'perm', 'pi', 'pow', 'prod', 'radians', 'remainder', 'sin', 'sinh', 'sqrt', 'tan', 'tanh', 'tau', 'trunc', 'ulp']\n"
     ]
    }
   ],
   "source": [
    "# Understanding the structure of Python modules\n",
    "# Explanation: Modules are files containing Python code, which can define functions, classes, and variables.\n",
    "# Example:\n",
    "import math\n",
    "print(dir(math))  # Lists all attributes and methods of the math module\n",
    "\n",
    "# Task: Import the os module and list its attributes\n",
    "# Sample Code:\n",
    "# import os\n",
    "# print(dir(os))"
   ]
  },
  {
   "cell_type": "code",
   "execution_count": 32,
   "id": "395782d5-83dd-40eb-ac4b-b0bfb0fb5b25",
   "metadata": {},
   "outputs": [
    {
     "name": "stdout",
     "output_type": "stream",
     "text": [
      "3.141592653589793\n",
      "120\n"
     ]
    }
   ],
   "source": [
    "# Standard Libraries\n",
    "\n",
    "# Using math for mathematical operations\n",
    "# Explanation: The math module provides mathematical functions and constants.\n",
    "# Example:\n",
    "import math\n",
    "print(math.pi)\n",
    "print(math.factorial(5))\n",
    "\n",
    "# Task: Use the math module to calculate the square root and sine of a number\n",
    "# Sample Code:\n",
    "# import math\n",
    "# print(math.sqrt(25))\n",
    "# print(math.sin(math.pi / 2))"
   ]
  },
  {
   "cell_type": "code",
   "execution_count": 33,
   "id": "2af9e9dc-9818-4e0c-be8a-421135b3ca6f",
   "metadata": {},
   "outputs": [
    {
     "name": "stdout",
     "output_type": "stream",
     "text": [
      "0.22941054450017295\n",
      "6\n"
     ]
    }
   ],
   "source": [
    "# Using random for generating random numbers\n",
    "# Explanation: The random module provides functions for generating random numbers.\n",
    "# Example:\n",
    "import random\n",
    "print(random.random())\n",
    "print(random.randint(1, 10))\n",
    "\n",
    "# Task: Use the random module to generate a random float and a random choice from a list\n",
    "# Sample Code:\n",
    "# import random\n",
    "# print(random.uniform(1, 5))\n",
    "# choices = [\"apple\", \"banana\", \"cherry\"]\n",
    "# print(random.choice(choices))"
   ]
  },
  {
   "cell_type": "code",
   "execution_count": 34,
   "id": "48c7712d-498e-470a-85ae-8973ba349ce8",
   "metadata": {},
   "outputs": [
    {
     "name": "stdout",
     "output_type": "stream",
     "text": [
      "2024-09-17 21:11:31.189639\n",
      "e:\\Lehigh_GitHub\\BUS448\\week2\n"
     ]
    }
   ],
   "source": [
    "# Exploring other useful libraries like datetime and os\n",
    "# Explanation: The datetime module provides functions for date and time manipulation, and the os module provides functions for interacting with the operating system.\n",
    "# Example:\n",
    "import datetime\n",
    "now = datetime.datetime.now()\n",
    "print(now)\n",
    "\n",
    "import os\n",
    "print(os.getcwd())\n",
    "\n",
    "# Task: Use the datetime module to get the current date and time, and the os module to list files in the current directory\n",
    "# Sample Code:\n",
    "# import datetime\n",
    "# today = datetime.date.today()\n",
    "# print(today)\n",
    "# import os\n",
    "# print(os.listdir(\".\"))"
   ]
  },
  {
   "cell_type": "code",
   "execution_count": 35,
   "id": "6e18533d-0cbf-4c3d-b058-ee80290aa4ee",
   "metadata": {},
   "outputs": [
    {
     "name": "stdout",
     "output_type": "stream",
     "text": [
      "2.5\n",
      "1.118033988749895\n"
     ]
    }
   ],
   "source": [
    "# Third-Party Libraries\n",
    "\n",
    "# Introduction to NumPy for numerical operations\n",
    "# Explanation: NumPy is a library for numerical operations in Python.\n",
    "# Example:\n",
    "import numpy as np\n",
    "arr = np.array([1, 2, 3, 4])\n",
    "print(np.mean(arr))\n",
    "print(np.std(arr))\n",
    "\n",
    "# Task: Use NumPy to create an array and calculate its sum and product\n",
    "# Sample Code:\n",
    "# import numpy as np\n",
    "# arr = np.array([5, 6, 7, 8])\n",
    "# print(np.sum(arr))\n",
    "# print(np.prod(arr))"
   ]
  },
  {
   "cell_type": "code",
   "execution_count": 36,
   "id": "3932a9a2-6a07-4493-82e7-d5a27a48fc2f",
   "metadata": {},
   "outputs": [
    {
     "name": "stdout",
     "output_type": "stream",
     "text": [
      "    name  age\n",
      "0  Alice   25\n",
      "1    Bob   30\n"
     ]
    }
   ],
   "source": [
    "# Using pandas for data manipulation and analysis\n",
    "# Explanation: Pandas is a library for data manipulation and analysis.\n",
    "# Example:\n",
    "import pandas as pd\n",
    "data = {\"name\": [\"Alice\", \"Bob\"], \"age\": [25, 30]}\n",
    "df = pd.DataFrame(data)\n",
    "print(df)\n",
    "\n",
    "# Task: Use pandas to create a DataFrame and display its summary statistics\n",
    "# Sample Code:\n",
    "# import pandas as pd\n",
    "# data = {\"city\": [\"New York\", \"Los Angeles\"], \"population\": [8419000, 3980000]}\n",
    "# df = pd.DataFrame(data)\n",
    "# print(df.describe())"
   ]
  },
  {
   "cell_type": "code",
   "execution_count": 36,
   "id": "18b8e061-8d2b-4810-a6ec-7447a382b446",
   "metadata": {},
   "outputs": [
    {
     "data": {
      "image/png": "[encoded data removed]",
      "text/plain": [
       "<Figure size 640x480 with 1 Axes>"
      ]
     },
     "metadata": {},
     "output_type": "display_data"
    },
    {
     "data": {
      "image/png": "[encoded data removed]",
      "text/plain": [
       "<Figure size 640x480 with 1 Axes>"
      ]
     },
     "metadata": {},
     "output_type": "display_data"
    }
   ],
   "source": [
    "# Basics of data visualization with matplotlib\n",
    "# Explanation: Matplotlib is a library for creating static, animated, and interactive visualizations in Python.\n",
    "# Example:\n",
    "import matplotlib.pyplot as plt\n",
    "x = [1, 2, 3, 4]\n",
    "y = [10, 20, 25, 30]\n",
    "plt.plot(x, y)\n",
    "plt.xlabel(\"X-axis\")\n",
    "plt.ylabel(\"Y-axis\")\n",
    "plt.title(\"Line Graph\")\n",
    "plt.show()\n",
    "\n",
    "# Task: Use matplotlib to create a bar chart\n",
    "# Sample Code:\n",
    "# import matplotlib.pyplot as plt\n",
    "# categories = [\"A\", \"B\", \"C\"]\n",
    "# values = [5, 7, 3]\n",
    "# plt.bar(categories, values)\n",
    "# plt.xlabel(\"Category\")\n",
    "# plt.ylabel(\"Values\")\n",
    "# plt.title(\"Bar Chart\")\n",
    "# plt.show()"
   ]
  },
  {
   "cell_type": "code",
   "execution_count": 37,
   "id": "ef31268d-2348-42a8-991b-873f3d9aedc7",
   "metadata": {},
   "outputs": [],
   "source": [
    "# Reading and Writing Files\n",
    "\n",
    "# Opening and closing files using different modes (r, w, a)\n",
    "# Explanation: Files can be opened in various modes like read (r), write (w), and append (a).\n",
    "# Example:\n",
    "file = open(\"example.txt\", \"w\")\n",
    "file.write(\"Hello, world!\")\n",
    "file.close()\n",
    "\n",
    "# Task: Open a file in read mode and print its content\n",
    "# Sample Code:\n",
    "# file = open(\"example.txt\", \"r\")\n",
    "# content = file.read()\n",
    "# print(content)\n",
    "# file.close()"
   ]
  },
  {
   "cell_type": "code",
   "execution_count": 38,
   "id": "edb1ae5b-e41a-443c-a8ba-213097ad8200",
   "metadata": {},
   "outputs": [
    {
     "name": "stdout",
     "output_type": "stream",
     "text": [
      "Hello, world!\n"
     ]
    }
   ],
   "source": [
    "# Reading from files using read, readline, and readlines\n",
    "# Explanation: Files can be read using various methods like read(), readline(), and readlines().\n",
    "# Example:\n",
    "file = open(\"example.txt\", \"r\")\n",
    "print(file.read())\n",
    "file.close()\n",
    "\n",
    "# Task: Read a file line by line using readline()\n",
    "# Sample Code:\n",
    "# file = open(\"example.txt\", \"r\")\n",
    "# line = file.readline()\n",
    "# while line:\n",
    "#     print(line, end=\"\")\n",
    "#     line = file.readline()\n",
    "# file.close()"
   ]
  },
  {
   "cell_type": "code",
   "execution_count": 39,
   "id": "85104991-1aff-4502-996e-f8dcdca68ef1",
   "metadata": {},
   "outputs": [],
   "source": [
    "# Handling Different File Formats\n",
    "\n",
    "# Reading and writing CSV files using the csv module\n",
    "# Explanation: The csv module provides functions to read and write CSV files.\n",
    "# Example:\n",
    "import csv\n",
    "with open(\"example.csv\", mode=\"w\", newline=\"\") as file:\n",
    "    writer = csv.writer(file)\n",
    "    writer.writerow([\"Name\", \"Age\"])\n",
    "    writer.writerow([\"Alice\", 25])\n",
    "\n",
    "# Task: Read a CSV file and print its contents\n",
    "# Sample Code:\n",
    "# import csv\n",
    "# with open(\"example.csv\", mode=\"r\") as file:\n",
    "#     reader = csv.reader(file)\n",
    "#     for row in reader:\n",
    "#         print(row)"
   ]
  },
  {
   "cell_type": "code",
   "execution_count": 40,
   "id": "3963c3cb-cd7f-40c9-ac51-24e80287fb84",
   "metadata": {},
   "outputs": [],
   "source": [
    "# Introduction to JSON file handling\n",
    "# Explanation: The json module provides functions to read and write JSON data.\n",
    "# Example:\n",
    "import json\n",
    "data = {\"name\": \"Alice\", \"age\": 25}\n",
    "with open(\"example.json\", mode=\"w\") as file:\n",
    "    json.dump(data, file)\n",
    "\n",
    "# Task: Read a JSON file and print its contents\n",
    "# Sample Code:\n",
    "# import json\n",
    "# with open(\"example.json\", mode=\"r\") as file:\n",
    "#     data = json.load(file)\n",
    "#     print(data)"
   ]
  },
  {
   "cell_type": "code",
   "execution_count": 41,
   "id": "106eb737-acb1-4abb-a932-b7f7677f44a1",
   "metadata": {},
   "outputs": [],
   "source": [
    "# Basics of working with Excel files using openpyxl or pandas\n",
    "# Explanation: The openpyxl and pandas libraries provide functions to read and write Excel files.\n",
    "# Example:\n",
    "import pandas as pd\n",
    "data = {\"Name\": [\"Alice\", \"Bob\"], \"Age\": [25, 30]}\n",
    "df = pd.DataFrame(data)\n",
    "df.to_excel(\"example.xlsx\", index=False)\n",
    "\n",
    "# Task: Read an Excel file and print its contents\n",
    "# Sample Code:\n",
    "# import pandas as pd\n",
    "# df = pd.read_excel(\"example.xlsx\")\n",
    "# print(df)"
   ]
  },
  {
   "cell_type": "code",
   "execution_count": 42,
   "id": "5c7181b3-ffbb-48d9-aa60-795dcbfa3aa3",
   "metadata": {},
   "outputs": [
    {
     "name": "stdout",
     "output_type": "stream",
     "text": [
      "Hello, \n"
     ]
    }
   ],
   "source": [
    "# Data Input and Output\n",
    "\n",
    "# Using input() for taking user input\n",
    "# Explanation: The input() function is used to take user input.\n",
    "# Example:\n",
    "name = input(\"Enter your name: \")\n",
    "print(f\"Hello, {name}\")\n",
    "\n",
    "# Task: Take user input for age and print a message\n",
    "# Sample Code:\n",
    "# age = input(\"Enter your age: \")\n",
    "# print(f\"You are {age} years old\")"
   ]
  },
  {
   "cell_type": "code",
   "execution_count": 43,
   "id": "21592ad9-68e1-448c-887e-ae20e374e94a",
   "metadata": {},
   "outputs": [
    {
     "name": "stdout",
     "output_type": "stream",
     "text": [
      "The value is 10\n"
     ]
    }
   ],
   "source": [
    "# Formatting output using print() and f-strings\n",
    "# Explanation: Output can be formatted using the print() function and f-strings.\n",
    "# Example:\n",
    "value = 10\n",
    "print(f\"The value is {value}\")\n",
    "\n",
    "# Task: Format and print a message with multiple variables\n",
    "# Sample Code:\n",
    "# city = \"New York\"\n",
    "# population = 8419000\n",
    "# print(f\"The population of {city} is {population}\")"
   ]
  },
  {
   "cell_type": "code",
   "execution_count": null,
   "id": "479f7172-d6b9-4f86-a373-f4f5d3ea9da0",
   "metadata": {},
   "outputs": [],
   "source": []
  }
 ],
 "metadata": {
  "kernelspec": {
   "display_name": "Python 3 (ipykernel)",
   "language": "python",
   "name": "python3"
  },
  "language_info": {
   "codemirror_mode": {
    "name": "ipython",
    "version": 3
   },
   "file_extension": ".py",
   "mimetype": "text/x-python",
   "name": "python",
   "nbconvert_exporter": "python",
   "pygments_lexer": "ipython3",
   "version": "3.11.7"
  }
 },
 "nbformat": 4,
 "nbformat_minor": 5
}
