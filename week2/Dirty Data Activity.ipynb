{
 "cells": [
  {
   "cell_type": "markdown",
   "id": "1591323a",
   "metadata": {},
   "source": [
    "# Dirty Data Activity\n",
    "This activity involves data cleaning and handling missing data, duplicates, and outliers."
   ]
  },
  {
   "cell_type": "code",
   "execution_count": null,
   "id": "e469c894",
   "metadata": {},
   "outputs": [],
   "source": [
    "# Import necessary libraries\n",
    "import pandas as pd\n",
    "import numpy as np\n",
    "from collections import Counter\n",
    "from pandas.api.types import is_numeric_dtype\n"
   ]
  },
  {
   "cell_type": "code",
   "execution_count": null,
   "id": "c0dd2a6f",
   "metadata": {},
   "outputs": [],
   "source": [
    "# Load the dataset\n",
    "data = pd.read_csv('Week 2 penn_health_records.csv')\n",
    "data.head()"
   ]
  },
  {
   "cell_type": "markdown",
   "id": "7a54e17a",
   "metadata": {},
   "source": [
    "### Part 1: Assess"
   ]
  },
  {
   "cell_type": "code",
   "execution_count": null,
   "id": "1a816119",
   "metadata": {},
   "outputs": [],
   "source": [
    "# 1.1 Check for missing data\n",
    "missing_data = data.isna().sum()\n",
    "print('Missing Data:')\n",
    "print(missing_data)"
   ]
  },
  {
   "cell_type": "code",
   "execution_count": null,
   "id": "f1e1905b",
   "metadata": {},
   "outputs": [],
   "source": [
    "# 1.2 Check for duplicate rows\n",
    "duplicates = data.duplicated().sum()\n",
    "print('Duplicate Rows:', duplicates)"
   ]
  },
  {
   "cell_type": "code",
   "execution_count": null,
   "id": "22091806",
   "metadata": {},
   "outputs": [],
   "source": [
    "# 1.3 Check for outliers\n",
    "# Filter out rows with extreme values in Age, Height, and Weight\n",
    "outliers_age = data[(data['Age'] < 0) | (data['Age'] > 100)]\n",
    "outliers_height = data[(data['Height'] < 140) | (data['Height'] > 200)]\n",
    "outliers_weight = data[(data['Weight'] < 50) | (data['Weight'] > 120)]\n",
    "print('Outliers in Age:', outliers_age)\n",
    "print('Outliers in Height:', outliers_height)\n",
    "print('Outliers in Weight:', outliers_weight)"
   ]
  },
  {
   "cell_type": "markdown",
   "id": "49528e52",
   "metadata": {},
   "source": [
    "### Part 2: Think Critically and Reflect\n",
    "### Write your answers as comments below:\n",
    "### What strategies can be used to handle missing data, and how do these strategies impact the overall analysis of the dataset?\n",
    "### Provide examples from the Age, Gender, and Height columns.\n",
    "\n",
    "### Explain the methods you can use to detect outliers in a dataset, particularly in columns like Age, Height, and Weight.\n",
    "### How would you decide whether to retain, modify, or remove these outliers, and what justifications can you provide for your decision?\n",
    "\n",
    "### Why is it important to validate and ensure consistency in data formats, such as dates?\n",
    "### Discuss the potential consequences of not addressing these issues."
   ]
  },
  {
   "cell_type": "code",
   "execution_count": null,
   "id": "f696b5ed",
   "metadata": {},
   "outputs": [],
   "source": [
    "# Part 3: Proceed with Cleaning\n",
    "# 1. Handle Missing Data\n",
    "# Fill missing 'Name' values with a placeholder\n",
    "data['Name'].fillna('Unknown', inplace=True)\n",
    "\n",
    "# Fill missing 'Age' values with the median\n",
    "data['Age'].fillna(data['Age'].median(), inplace=True)\n",
    "\n",
    "# Drop rows where 'Gender' is missing\n",
    "data = data.dropna(subset=['Gender'])\n",
    "\n",
    "# Fill missing 'Height' and 'Weight' with the median\n",
    "data['Height'].fillna(data['Height'].median(), inplace=True)\n",
    "data['Weight'].fillna(data['Weight'].median(), inplace=True)\n",
    "\n",
    "# Fill missing 'BloodPressure' and 'Cholesterol' with the most common value\n",
    "mode_bp = data['BloodPressure'].mode()[0]\n",
    "data['BloodPressure'].fillna(mode_bp, inplace=True)\n",
    "\n",
    "mode_chol = data['Cholesterol'].mode()[0]\n",
    "data['Cholesterol'].fillna(mode_chol, inplace=True)"
   ]
  },
  {
   "cell_type": "code",
   "execution_count": null,
   "id": "f9bde7bb",
   "metadata": {},
   "outputs": [],
   "source": [
    "# 2. Remove duplicate rows\n",
    "data = data.drop_duplicates()\n",
    "print(f'Duplicates removed. Remaining rows: {len(data)}')"
   ]
  },
  {
   "cell_type": "code",
   "execution_count": null,
   "id": "3d9be486",
   "metadata": {},
   "outputs": [],
   "source": [
    "# 3. Handle outliers\n",
    "# Replace outliers in 'Age', 'Height', and 'Weight' with the median\n",
    "median_age = data['Age'].median()\n",
    "median_height = data['Height'].median()\n",
    "median_weight = data['Weight'].median()\n",
    "\n",
    "data['Age'] = np.where((data['Age'] < 0) | (data['Age'] > 100), median_age, data['Age'])\n",
    "data['Height'] = np.where((data['Height'] < 140) | (data['Height'] > 200), median_height, data['Height'])\n",
    "data['Weight'] = np.where((data['Weight'] < 50) | (data['Weight'] > 120), median_weight, data['Weight'])"
   ]
  },
  {
   "cell_type": "code",
   "execution_count": null,
   "id": "90985b41",
   "metadata": {},
   "outputs": [],
   "source": [
    "# 4. Final Step: Remove Time from Dates\n",
    "# Strip the time component from 'DateOfVisit'\n",
    "data['DateOfVisit'] = pd.to_datetime(data['DateOfVisit'], errors='coerce').dt.date\n",
    "print('Dates cleaned.')\n",
    "data.head()"
   ]
  },
  {
   "cell_type": "code",
   "execution_count": null,
   "id": "c585dc44",
   "metadata": {},
   "outputs": [],
   "source": [
    "# Save the cleaned dataset\n",
    "data.to_csv('Week 2 penn_health_records_cleaned.csv', index=False)\n",
    "print('Cleaned data saved as Week_2_penn_health_records_cleaned.csv')"
   ]
  },
  {
   "cell_type": "code",
   "execution_count": null,
   "id": "2f20b485-ad49-4420-88dd-9ecf036c8420",
   "metadata": {},
   "outputs": [],
   "source": []
  }
 ],
 "metadata": {
  "kernelspec": {
   "display_name": "Python 3 (ipykernel)",
   "language": "python",
   "name": "python3"
  },
  "language_info": {
   "codemirror_mode": {
    "name": "ipython",
    "version": 3
   },
   "file_extension": ".py",
   "mimetype": "text/x-python",
   "name": "python",
   "nbconvert_exporter": "python",
   "pygments_lexer": "ipython3",
   "version": "3.9.6"
  }
 },
 "nbformat": 4,
 "nbformat_minor": 5
}
